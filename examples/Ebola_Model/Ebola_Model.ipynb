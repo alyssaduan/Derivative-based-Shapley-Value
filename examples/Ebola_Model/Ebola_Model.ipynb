{
 "cells": [
  {
   "cell_type": "markdown",
   "id": "42b21754-263f-4992-b99d-d1ede13019d6",
   "metadata": {},
   "source": [
    "# Ebola Model"
   ]
  },
  {
   "cell_type": "code",
   "execution_count": 1,
   "id": "73629903-5ada-42d1-8fea-84a96f67f6c3",
   "metadata": {},
   "outputs": [],
   "source": [
    "%matplotlib inline\n",
    "import numpy as np\n",
    "import matplotlib.pyplot as plt\n",
    "import active_subspaces as ac"
   ]
  },
  {
   "cell_type": "markdown",
   "id": "16fc191c-448f-4726-84de-3ff41b3597e0",
   "metadata": {},
   "source": [
    "## 1. Set up the Model"
   ]
  },
  {
   "cell_type": "code",
   "execution_count": 2,
   "id": "7a297254-263d-414e-b21d-df30ef56a7a8",
   "metadata": {},
   "outputs": [],
   "source": [
    "#Liberian lower and upper parameter bounds\n",
    "lb_L = np.array([.1, .1, .05, .41, .0276, .081, .25, .0833])\n",
    "ub_L = np.array([.4, .4, .2, 1, .1702, .21, .5, .7])\n",
    "#Sierra Leone bounds\n",
    "lb_S = np.array([.1, .1, .05, .41, .0275, .1236, .25, .0833])\n",
    "ub_S = np.array([.4, .4, .2, 1, .1569, .384, .5, .7])\n",
    "\n",
    "#basic reproduction number\n",
    "def R0(x):\n",
    "    b1 = x[:,0]; b2 = x[:,1]; b3 = x[:,2]; r1 = x[:,3]\n",
    "    g1 = x[:,4]; g2 = x[:,5]; om = x[:,6]; p = x[:,7]\n",
    "    \n",
    "    return (b1 + b2*r1*g1/om + b3*p/g2)/(g1 + p)\n",
    "\n",
    "#reproduction number gradient with respect to UNnormalized parameters\n",
    "def R0_grad(x):\n",
    "    b1 = x[:,0]; b2 = x[:,1]; b3 = x[:,2]; r1 = x[:,3]\n",
    "    g1 = x[:,4]; g2 = x[:,5]; om = x[:,6]; p = x[:,7]\n",
    "    \n",
    "    dRdb1 = (1./(g1 + p))[:,None]\n",
    "    dRdb2 = (r1*g1/om/(g1 + p))[:,None]\n",
    "    dRdb3 = (p/g2/(g1 + p))[:,None]\n",
    "    dRdr1 = (b2*g1/om/(g1 + p))[:,None]\n",
    "    dRdg1 = (b2*r1/om/(g1 + p) - R0(x)/(g1 + p))[:,None]\n",
    "    dRdg2 = (-b3*p/g2**2/(g1 + p))[:,None]\n",
    "    dRdom = (-b2*r1*g1/om**2/(g1 + p))[:,None]\n",
    "    dRdp = (b3/g2/(g1 + p) - R0(x)/(g1 + p))[:,None]\n",
    "    \n",
    "    return np.hstack((dRdb1, dRdb2, dRdb3, dRdr1, dRdg1, dRdg2, dRdom, dRdp))\n",
    "\n",
    "#Integrand for C\n",
    "def subspace_integrand(df):\n",
    "    df = df.reshape((8, 1))\n",
    "    return df.dot(df.T)*2**-8"
   ]
  },
  {
   "cell_type": "markdown",
   "id": "65e585e5-ad96-4ecf-b706-08bd773183fe",
   "metadata": {},
   "source": [
    "## 2. Compute the gradients"
   ]
  },
  {
   "cell_type": "code",
   "execution_count": 3,
   "id": "653a12b2-3644-428e-8b3c-7bce33adbec9",
   "metadata": {},
   "outputs": [],
   "source": [
    "#gauss-legendre quadrature points/weights\n",
    "xx, w = ac.utils.quadrature.gauss_legendre([8, 8, 8, 8, 8, 8, 8, 8])\n",
    "\n",
    "#un-normalized inputs for Liberia (S) and Sierra Leone (S)\n",
    "x_L = lb_L + (ub_L - lb_L)/2.*(xx + 1)\n",
    "x_S = lb_S + (ub_S - lb_S)/2.*(xx + 1)\n",
    "\n",
    "#output and gradient values\n",
    "R_L = R0(x_L)\n",
    "dR_L = R0_grad(x_L)\n",
    "R_S = R0(x_S)\n",
    "dR_S = R0_grad(x_S)\n",
    "\n",
    "#Gradients with respect to noramlized inputs according to the chain rule\n",
    "dR_L *= (ub_L - lb_L)/2.\n",
    "dR_S *= (ub_S - lb_S)/2.\n",
    "\n",
    "#Compute C for Liberia\n",
    "integrands = []\n",
    "for i in range(dR_L.shape[0]):\n",
    "    integrands.append(subspace_integrand(dR_L[i])*w[i])\n",
    "integrands = np.array(integrands)\n",
    "C_L = integrands.sum(axis=0)\n",
    "\n",
    "#Compute C for Sierra Leone\n",
    "integrands = []\n",
    "for i in range(dR_S.shape[0]):\n",
    "    integrands.append(subspace_integrand(dR_S[i])*w[i])\n",
    "integrands = np.array(integrands)\n",
    "C_S = integrands.sum(axis=0)"
   ]
  },
  {
   "cell_type": "markdown",
   "id": "766a1366-1e32-4a83-b539-a1e7780d5472",
   "metadata": {},
   "source": [
    "## 3. DerSHAP - Sensitivity Analysis"
   ]
  },
  {
   "cell_type": "code",
   "execution_count": 6,
   "id": "2f1ac3f0-bbb1-458c-be5e-bb174b940f5e",
   "metadata": {},
   "outputs": [],
   "source": [
    "def DerSHAP_Ebola(C):\n",
    "    \"\"\"\n",
    "    Input: \n",
    "         df: M-by-d matrix, that contains estimated partial derivatives( in our case, approximated by finite difference method)\n",
    "    Output: \n",
    "        norm_shap:  normalized DerSHAP values\n",
    "    Parameters:\n",
    "        C: d-by-d matrix, this is the gradient matrix\n",
    "        shap: d-by-1 array, this is the DerSHAP values array\n",
    "        norm_shap: d-by 1 array, this is the normalized DerSHAP values\n",
    "    \"\"\"\n",
    "    C = abs(C)\n",
    "    shap = np.zeros(len(C))\n",
    "    for ii in range(len(C)):\n",
    "        shap[ii] = 0.5*C[ii,ii]\n",
    "        temp = 0\n",
    "        for jj in range(len(C[0])):\n",
    "            temp = 0.5 * C[ii,jj]\n",
    "        shap[ii] += temp\n",
    "    norm_shap = [shap[ii]/sum(shap) for ii in range(len(shap))]\n",
    "    return norm_shap"
   ]
  },
  {
   "cell_type": "markdown",
   "id": "af732653-d02e-4985-bf94-cc08e2e940ff",
   "metadata": {},
   "source": [
    "### 3.1 DerSHAP for Liberia"
   ]
  },
  {
   "cell_type": "code",
   "execution_count": 9,
   "id": "3da3a348-0639-42c5-9974-72055287fa4d",
   "metadata": {},
   "outputs": [
    {
     "data": {
      "image/png": "[encoded data removed]",
      "text/plain": [
       "<Figure size 640x480 with 1 Axes>"
      ]
     },
     "metadata": {},
     "output_type": "display_data"
    }
   ],
   "source": [
    "norm_shap = DerSHAP_Ebola(C_L)\n",
    "#labels for plots\n",
    "in_labels = [r'$\\beta_1$', r'$\\beta_2$', r'$\\beta_3$', r'$\\rho_1$', r'$\\gamma_1$',\\\n",
    "            r'$\\gamma_2$', r'$\\omega$', r'$\\psi$']\n",
    "plt.bar(in_labels, norm_shap)\n",
    "plt.savefig(\"Liberia.pdf\")"
   ]
  },
  {
   "cell_type": "markdown",
   "id": "cb3f2ba6-9c09-4406-ac60-ca1e73338448",
   "metadata": {},
   "source": [
    "### 3.2 DerSHAP for Sierra Leone"
   ]
  },
  {
   "cell_type": "code",
   "execution_count": 10,
   "id": "b927bd99-75a0-4538-97f8-54eec94709ce",
   "metadata": {},
   "outputs": [
    {
     "data": {
      "image/png": "[encoded data removed]",
      "text/plain": [
       "<Figure size 640x480 with 1 Axes>"
      ]
     },
     "metadata": {},
     "output_type": "display_data"
    }
   ],
   "source": [
    "norm_shap = DerSHAP_Ebola(C_S)\n",
    "#labels for plots\n",
    "in_labels = [r'$\\beta_1$', r'$\\beta_2$', r'$\\beta_3$', r'$\\rho_1$', r'$\\gamma_1$',\\\n",
    "            r'$\\gamma_2$', r'$\\omega$', r'$\\psi$']\n",
    "plt.bar(in_labels, norm_shap)\n",
    "plt.savefig(\"Sierra.pdf\")"
   ]
  }
 ],
 "metadata": {
  "kernelspec": {
   "display_name": "Python 3 (ipykernel)",
   "language": "python",
   "name": "python3"
  },
  "language_info": {
   "codemirror_mode": {
    "name": "ipython",
    "version": 3
   },
   "file_extension": ".py",
   "mimetype": "text/x-python",
   "name": "python",
   "nbconvert_exporter": "python",
   "pygments_lexer": "ipython3",
   "version": "3.9.13"
  }
 },
 "nbformat": 4,
 "nbformat_minor": 5
}
